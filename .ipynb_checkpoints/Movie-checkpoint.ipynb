{
 "cells": [
  {
   "cell_type": "code",
   "execution_count": 49,
   "metadata": {
    "collapsed": true
   },
   "outputs": [],
   "source": [
    "import requests\n",
    "from lxml import etree\n",
    "headers= { 'User-Agent' : 'User-Agent:Mozilla/5.0 (Windows NT 10.0; Win64; x64) AppleWebKit/537.36 (KHTML, like Gecko) Chrome/53.0.2785.143 Safari/537.36' }\n",
    "subject = \"1828115\"\n",
    "url = \"https://movie.douban.com/subject/%s/\"%subject\n",
    "html = requests.get(url,headers=headers).content.decode(\"utf-8\")\n",
    "selector = etree.HTML(html)"
   ]
  },
  {
   "cell_type": "markdown",
   "metadata": {},
   "source": [
    "# 电影名称"
   ]
  },
  {
   "cell_type": "code",
   "execution_count": 44,
   "metadata": {
    "collapsed": false
   },
   "outputs": [
    {
     "name": "stdout",
     "output_type": "stream",
     "text": [
      "飞驰中的萨利·加德纳 Sallie Gardner at a Gallop\n",
      "(1880)\n"
     ]
    }
   ],
   "source": [
    "names = selector.xpath(\"//h1/span[@property='v:itemreviewed']/text()\")\n",
    "years = selector.xpath(\"//h1/span[@class='year']/text()\")\n",
    "for name in names:\n",
    "    print(name)\n",
    "for year in years:\n",
    "    print(year)"
   ]
  },
  {
   "cell_type": "markdown",
   "metadata": {},
   "source": [
    "# 导演"
   ]
  },
  {
   "cell_type": "code",
   "execution_count": 45,
   "metadata": {
    "collapsed": false
   },
   "outputs": [
    {
     "name": "stdout",
     "output_type": "stream",
     "text": [
      "埃德沃德·迈布里奇\n"
     ]
    }
   ],
   "source": [
    "directors = selector.xpath(\"//a[@rel='v:directedBy']/text()\")\n",
    "for director in directors:\n",
    "    print(director)"
   ]
  },
  {
   "cell_type": "markdown",
   "metadata": {},
   "source": [
    "# 演员"
   ]
  },
  {
   "cell_type": "code",
   "execution_count": 46,
   "metadata": {
    "collapsed": false
   },
   "outputs": [
    {
     "name": "stdout",
     "output_type": "stream",
     "text": [
      "Sallie Gardner\n"
     ]
    }
   ],
   "source": [
    "actors = selector.xpath(\"//a[@rel='v:starring']/text()\")\n",
    "for actor in actors:\n",
    "    print(actor)"
   ]
  },
  {
   "cell_type": "markdown",
   "metadata": {},
   "source": [
    "# 上映日期"
   ]
  },
  {
   "cell_type": "code",
   "execution_count": 47,
   "metadata": {
    "collapsed": false
   },
   "outputs": [
    {
     "name": "stdout",
     "output_type": "stream",
     "text": [
      "1880\n"
     ]
    }
   ],
   "source": [
    "date = selector.xpath(\"//span[@property='v:initialReleaseDate']/text()\")\n",
    "for d in date:\n",
    "    print(d)"
   ]
  },
  {
   "cell_type": "markdown",
   "metadata": {},
   "source": [
    "# 片长"
   ]
  },
  {
   "cell_type": "code",
   "execution_count": 48,
   "metadata": {
    "collapsed": false
   },
   "outputs": [],
   "source": [
    "time = selector.xpath(\"//span[@property='v:runtime']/text()\")\n",
    "for t in time:\n",
    "    print(t)"
   ]
  },
  {
   "cell_type": "markdown",
   "metadata": {},
   "source": [
    "# 豆瓣评分"
   ]
  },
  {
   "cell_type": "code",
   "execution_count": 36,
   "metadata": {
    "collapsed": false
   },
   "outputs": [
    {
     "name": "stdout",
     "output_type": "stream",
     "text": [
      "7.6\n"
     ]
    }
   ],
   "source": [
    "star = selector.xpath(\"//strong[@class='ll rating_num']/text()\")\n",
    "for s in star:\n",
    "    print(s)"
   ]
  },
  {
   "cell_type": "markdown",
   "metadata": {},
   "source": [
    "# 评价人数"
   ]
  },
  {
   "cell_type": "code",
   "execution_count": 37,
   "metadata": {
    "collapsed": false
   },
   "outputs": [
    {
     "name": "stdout",
     "output_type": "stream",
     "text": [
      "618\n"
     ]
    }
   ],
   "source": [
    "rating_people = selector.xpath(\"//span[@property='v:votes']/text()\")\n",
    "for p in rating_people:\n",
    "    print(p)"
   ]
  },
  {
   "cell_type": "markdown",
   "metadata": {},
   "source": [
    "# 类型"
   ]
  },
  {
   "cell_type": "code",
   "execution_count": 38,
   "metadata": {
    "collapsed": false
   },
   "outputs": [
    {
     "name": "stdout",
     "output_type": "stream",
     "text": [
      "剧情\n",
      "爱情\n"
     ]
    }
   ],
   "source": [
    "genre = selector.xpath(\"//span[@property='v:genre']/text()\")\n",
    "for g in genre:\n",
    "    print(g)"
   ]
  },
  {
   "cell_type": "markdown",
   "metadata": {},
   "source": [
    "# 获奖情况"
   ]
  },
  {
   "cell_type": "code",
   "execution_count": 39,
   "metadata": {
    "collapsed": false
   },
   "outputs": [],
   "source": [
    "awards = selector.xpath(\"//ul[@class='award']/li/text() | //ul[@class='award']/li/a/text()\")\n",
    "for award in awards:\n",
    "    print(award)"
   ]
  },
  {
   "cell_type": "markdown",
   "metadata": {},
   "source": [
    "# 海报"
   ]
  },
  {
   "cell_type": "code",
   "execution_count": 40,
   "metadata": {
    "collapsed": false
   },
   "outputs": [
    {
     "name": "stdout",
     "output_type": "stream",
     "text": [
      "https://img3.doubanio.com/view/movie_poster_cover/lpst/public/p2392975783.jpg\n"
     ]
    }
   ],
   "source": [
    "image_src = selector.xpath(\"//a[@class='nbgnbg']/img[@rel='v:image']/@src\")\n",
    "for img in image_src:\n",
    "    print(img)"
   ]
  },
  {
   "cell_type": "markdown",
   "metadata": {},
   "source": [
    "# 剧情简介"
   ]
  },
  {
   "cell_type": "code",
   "execution_count": 58,
   "metadata": {
    "collapsed": false
   },
   "outputs": [
    {
     "name": "stdout",
     "output_type": "stream",
     "text": [
      "老炮儿在北京话中，专指提笼遛鸟，无所事事的老混混儿。\n"
     ]
    }
   ],
   "source": [
    "introduction = selector.xpath(\"//span[@property='v:summary']/text()\")\n",
    "# for intro in introduction:\n",
    "#     print(intro)\n",
    "print(introduction[0].strip(\"\\n                                \\u3000\\u3000\"))"
   ]
  },
  {
   "cell_type": "markdown",
   "metadata": {},
   "source": [
    "# 常用标签"
   ]
  },
  {
   "cell_type": "code",
   "execution_count": 42,
   "metadata": {
    "collapsed": false
   },
   "outputs": [
    {
     "name": "stdout",
     "output_type": "stream",
     "text": [
      "韩国\n",
      "同性\n",
      "韩国电影\n",
      "爱情\n",
      "2016\n",
      "Les\n",
      "les\n",
      "LGBT\n"
     ]
    }
   ],
   "source": [
    "tags = selector.xpath(\"//div[@class='tags-body']/a/text()\")\n",
    "for tag in tags:\n",
    "    print(tag)"
   ]
  },
  {
   "cell_type": "code",
   "execution_count": null,
   "metadata": {
    "collapsed": true
   },
   "outputs": [],
   "source": []
  }
 ],
 "metadata": {
  "kernelspec": {
   "display_name": "Python 3",
   "language": "python",
   "name": "python3"
  },
  "language_info": {
   "codemirror_mode": {
    "name": "ipython",
    "version": 3
   },
   "file_extension": ".py",
   "mimetype": "text/x-python",
   "name": "python",
   "nbconvert_exporter": "python",
   "pygments_lexer": "ipython3",
   "version": "3.5.1"
  }
 },
 "nbformat": 4,
 "nbformat_minor": 1
}
